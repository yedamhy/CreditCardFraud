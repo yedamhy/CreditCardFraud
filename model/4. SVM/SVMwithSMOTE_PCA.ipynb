{
 "cells": [
  {
   "cell_type": "code",
   "execution_count": 1,
   "metadata": {},
   "outputs": [],
   "source": [
    "file_path = \"C:/Users/gch05/data_min/dataset/\""
   ]
  },
  {
   "cell_type": "code",
   "execution_count": 2,
   "metadata": {
    "executionInfo": {
     "elapsed": 1636,
     "status": "ok",
     "timestamp": 1699952766470,
     "user": {
      "displayName": "현예닮",
      "userId": "09810217778273348387"
     },
     "user_tz": -540
    },
    "id": "BfTAdj6_lIOs"
   },
   "outputs": [],
   "source": [
    "#Importing librairies\n",
    "import pandas as pd\n",
    "import numpy as np\n",
    " \n",
    "# Scikit-learn library: For SVM\n",
    "from sklearn import preprocessing\n",
    "from sklearn.metrics import confusion_matrix\n",
    "from sklearn import svm\n",
    "\n",
    "import itertools\n",
    "\n",
    "# Matplotlib library to plot the charts\n",
    "import matplotlib.pyplot as plt\n",
    "import matplotlib.mlab as mlab\n",
    "\n",
    "# Library for the statistic data vizualisation\n",
    "import seaborn as sns\n",
    "\n",
    "%matplotlib inline"
   ]
  },
  {
   "cell_type": "code",
   "execution_count": 3,
   "metadata": {
    "colab": {
     "base_uri": "https://localhost:8080/",
     "height": 255
    },
    "executionInfo": {
     "elapsed": 5127,
     "status": "ok",
     "timestamp": 1699952771594,
     "user": {
      "displayName": "현예닮",
      "userId": "09810217778273348387"
     },
     "user_tz": -540
    },
    "id": "Ne7ZmuEYlI8X",
    "outputId": "a94908f4-e24e-4405-c918-c14a5c2e699f"
   },
   "outputs": [
    {
     "data": {
      "text/html": [
       "<div>\n",
       "<style scoped>\n",
       "    .dataframe tbody tr th:only-of-type {\n",
       "        vertical-align: middle;\n",
       "    }\n",
       "\n",
       "    .dataframe tbody tr th {\n",
       "        vertical-align: top;\n",
       "    }\n",
       "\n",
       "    .dataframe thead th {\n",
       "        text-align: right;\n",
       "    }\n",
       "</style>\n",
       "<table border=\"1\" class=\"dataframe\">\n",
       "  <thead>\n",
       "    <tr style=\"text-align: right;\">\n",
       "      <th></th>\n",
       "      <th>V1</th>\n",
       "      <th>V2</th>\n",
       "      <th>V3</th>\n",
       "      <th>V4</th>\n",
       "      <th>V5</th>\n",
       "      <th>V6</th>\n",
       "      <th>V7</th>\n",
       "      <th>V8</th>\n",
       "      <th>V9</th>\n",
       "      <th>V10</th>\n",
       "      <th>...</th>\n",
       "      <th>V20</th>\n",
       "      <th>V21</th>\n",
       "      <th>V22</th>\n",
       "      <th>V23</th>\n",
       "      <th>V24</th>\n",
       "      <th>V25</th>\n",
       "      <th>V26</th>\n",
       "      <th>V27</th>\n",
       "      <th>V28</th>\n",
       "      <th>target</th>\n",
       "    </tr>\n",
       "  </thead>\n",
       "  <tbody>\n",
       "    <tr>\n",
       "      <th>0</th>\n",
       "      <td>-0.186803</td>\n",
       "      <td>-1.000143</td>\n",
       "      <td>0.745271</td>\n",
       "      <td>0.396115</td>\n",
       "      <td>-1.285372</td>\n",
       "      <td>-0.708153</td>\n",
       "      <td>0.114003</td>\n",
       "      <td>0.325531</td>\n",
       "      <td>0.592047</td>\n",
       "      <td>0.439203</td>\n",
       "      <td>...</td>\n",
       "      <td>0.884376</td>\n",
       "      <td>-0.557766</td>\n",
       "      <td>0.036501</td>\n",
       "      <td>0.809532</td>\n",
       "      <td>0.478148</td>\n",
       "      <td>0.135564</td>\n",
       "      <td>1.472248</td>\n",
       "      <td>0.428958</td>\n",
       "      <td>-0.381381</td>\n",
       "      <td>0</td>\n",
       "    </tr>\n",
       "    <tr>\n",
       "      <th>1</th>\n",
       "      <td>-0.705777</td>\n",
       "      <td>-0.671973</td>\n",
       "      <td>0.878802</td>\n",
       "      <td>0.384820</td>\n",
       "      <td>0.332147</td>\n",
       "      <td>0.265318</td>\n",
       "      <td>0.581809</td>\n",
       "      <td>-0.587116</td>\n",
       "      <td>0.875597</td>\n",
       "      <td>-0.961119</td>\n",
       "      <td>...</td>\n",
       "      <td>-0.536303</td>\n",
       "      <td>-0.159865</td>\n",
       "      <td>0.910140</td>\n",
       "      <td>0.123068</td>\n",
       "      <td>-0.891751</td>\n",
       "      <td>0.650127</td>\n",
       "      <td>0.867556</td>\n",
       "      <td>-0.841684</td>\n",
       "      <td>0.475563</td>\n",
       "      <td>0</td>\n",
       "    </tr>\n",
       "    <tr>\n",
       "      <th>2</th>\n",
       "      <td>3.973764</td>\n",
       "      <td>0.752199</td>\n",
       "      <td>-0.057570</td>\n",
       "      <td>0.722408</td>\n",
       "      <td>1.857562</td>\n",
       "      <td>-1.213780</td>\n",
       "      <td>0.526862</td>\n",
       "      <td>-1.335082</td>\n",
       "      <td>0.488178</td>\n",
       "      <td>-0.693094</td>\n",
       "      <td>...</td>\n",
       "      <td>0.431250</td>\n",
       "      <td>0.468316</td>\n",
       "      <td>0.554997</td>\n",
       "      <td>0.719100</td>\n",
       "      <td>-0.347534</td>\n",
       "      <td>0.322468</td>\n",
       "      <td>-0.220685</td>\n",
       "      <td>0.436515</td>\n",
       "      <td>-0.433111</td>\n",
       "      <td>0</td>\n",
       "    </tr>\n",
       "    <tr>\n",
       "      <th>3</th>\n",
       "      <td>1.025226</td>\n",
       "      <td>0.970736</td>\n",
       "      <td>0.634796</td>\n",
       "      <td>-0.730365</td>\n",
       "      <td>-0.767119</td>\n",
       "      <td>0.839303</td>\n",
       "      <td>0.244287</td>\n",
       "      <td>0.100426</td>\n",
       "      <td>0.462459</td>\n",
       "      <td>0.848337</td>\n",
       "      <td>...</td>\n",
       "      <td>-0.503240</td>\n",
       "      <td>0.372951</td>\n",
       "      <td>0.879522</td>\n",
       "      <td>0.369692</td>\n",
       "      <td>-0.584512</td>\n",
       "      <td>1.226589</td>\n",
       "      <td>-0.281516</td>\n",
       "      <td>-0.572916</td>\n",
       "      <td>0.434625</td>\n",
       "      <td>0</td>\n",
       "    </tr>\n",
       "    <tr>\n",
       "      <th>4</th>\n",
       "      <td>-0.892340</td>\n",
       "      <td>-0.479857</td>\n",
       "      <td>0.500884</td>\n",
       "      <td>-1.393628</td>\n",
       "      <td>0.103438</td>\n",
       "      <td>0.917956</td>\n",
       "      <td>-1.092323</td>\n",
       "      <td>0.107218</td>\n",
       "      <td>0.561216</td>\n",
       "      <td>0.387365</td>\n",
       "      <td>...</td>\n",
       "      <td>-0.379418</td>\n",
       "      <td>0.749823</td>\n",
       "      <td>0.204488</td>\n",
       "      <td>0.400505</td>\n",
       "      <td>0.618971</td>\n",
       "      <td>0.204516</td>\n",
       "      <td>-0.777073</td>\n",
       "      <td>0.554618</td>\n",
       "      <td>-0.069441</td>\n",
       "      <td>0</td>\n",
       "    </tr>\n",
       "  </tbody>\n",
       "</table>\n",
       "<p>5 rows × 29 columns</p>\n",
       "</div>"
      ],
      "text/plain": [
       "         V1        V2        V3        V4        V5        V6        V7  \\\n",
       "0 -0.186803 -1.000143  0.745271  0.396115 -1.285372 -0.708153  0.114003   \n",
       "1 -0.705777 -0.671973  0.878802  0.384820  0.332147  0.265318  0.581809   \n",
       "2  3.973764  0.752199 -0.057570  0.722408  1.857562 -1.213780  0.526862   \n",
       "3  1.025226  0.970736  0.634796 -0.730365 -0.767119  0.839303  0.244287   \n",
       "4 -0.892340 -0.479857  0.500884 -1.393628  0.103438  0.917956 -1.092323   \n",
       "\n",
       "         V8        V9       V10  ...       V20       V21       V22       V23  \\\n",
       "0  0.325531  0.592047  0.439203  ...  0.884376 -0.557766  0.036501  0.809532   \n",
       "1 -0.587116  0.875597 -0.961119  ... -0.536303 -0.159865  0.910140  0.123068   \n",
       "2 -1.335082  0.488178 -0.693094  ...  0.431250  0.468316  0.554997  0.719100   \n",
       "3  0.100426  0.462459  0.848337  ... -0.503240  0.372951  0.879522  0.369692   \n",
       "4  0.107218  0.561216  0.387365  ... -0.379418  0.749823  0.204488  0.400505   \n",
       "\n",
       "        V24       V25       V26       V27       V28  target  \n",
       "0  0.478148  0.135564  1.472248  0.428958 -0.381381       0  \n",
       "1 -0.891751  0.650127  0.867556 -0.841684  0.475563       0  \n",
       "2 -0.347534  0.322468 -0.220685  0.436515 -0.433111       0  \n",
       "3 -0.584512  1.226589 -0.281516 -0.572916  0.434625       0  \n",
       "4  0.618971  0.204516 -0.777073  0.554618 -0.069441       0  \n",
       "\n",
       "[5 rows x 29 columns]"
      ]
     },
     "execution_count": 3,
     "metadata": {},
     "output_type": "execute_result"
    }
   ],
   "source": [
    "# 데이터 불러오기\n",
    "data = pd.read_csv(file_path + 'pca_train_test.csv')\n",
    "data.head()"
   ]
  },
  {
   "cell_type": "code",
   "execution_count": 4,
   "metadata": {
    "colab": {
     "base_uri": "https://localhost:8080/"
    },
    "executionInfo": {
     "elapsed": 7,
     "status": "ok",
     "timestamp": 1699952771594,
     "user": {
      "displayName": "현예닮",
      "userId": "09810217778273348387"
     },
     "user_tz": -540
    },
    "id": "JlxCnhQ7lMiW",
    "outputId": "a99acf83-f49f-40e0-c73c-a303697bea1b"
   },
   "outputs": [
    {
     "name": "stdout",
     "output_type": "stream",
     "text": [
      "<class 'pandas.core.frame.DataFrame'>\n",
      "RangeIndex: 284806 entries, 0 to 284805\n",
      "Data columns (total 29 columns):\n",
      " #   Column  Non-Null Count   Dtype  \n",
      "---  ------  --------------   -----  \n",
      " 0   V1      284806 non-null  float64\n",
      " 1   V2      284806 non-null  float64\n",
      " 2   V3      284806 non-null  float64\n",
      " 3   V4      284806 non-null  float64\n",
      " 4   V5      284806 non-null  float64\n",
      " 5   V6      284806 non-null  float64\n",
      " 6   V7      284806 non-null  float64\n",
      " 7   V8      284806 non-null  float64\n",
      " 8   V9      284806 non-null  float64\n",
      " 9   V10     284806 non-null  float64\n",
      " 10  V11     284806 non-null  float64\n",
      " 11  V12     284806 non-null  float64\n",
      " 12  V13     284806 non-null  float64\n",
      " 13  V14     284806 non-null  float64\n",
      " 14  V15     284806 non-null  float64\n",
      " 15  V16     284806 non-null  float64\n",
      " 16  V17     284806 non-null  float64\n",
      " 17  V18     284806 non-null  float64\n",
      " 18  V19     284806 non-null  float64\n",
      " 19  V20     284806 non-null  float64\n",
      " 20  V21     284806 non-null  float64\n",
      " 21  V22     284806 non-null  float64\n",
      " 22  V23     284806 non-null  float64\n",
      " 23  V24     284806 non-null  float64\n",
      " 24  V25     284806 non-null  float64\n",
      " 25  V26     284806 non-null  float64\n",
      " 26  V27     284806 non-null  float64\n",
      " 27  V28     284806 non-null  float64\n",
      " 28  target  284806 non-null  int64  \n",
      "dtypes: float64(28), int64(1)\n",
      "memory usage: 63.0 MB\n"
     ]
    }
   ],
   "source": [
    "data.info()"
   ]
  },
  {
   "cell_type": "code",
   "execution_count": 5,
   "metadata": {
    "colab": {
     "base_uri": "https://localhost:8080/"
    },
    "executionInfo": {
     "elapsed": 5,
     "status": "ok",
     "timestamp": 1699952771594,
     "user": {
      "displayName": "현예닮",
      "userId": "09810217778273348387"
     },
     "user_tz": -540
    },
    "id": "uWqYc9YQl2Mx",
    "outputId": "facccf06-410c-49cb-d3dc-321f9d8ec2ac"
   },
   "outputs": [
    {
     "data": {
      "text/plain": [
       "(284806, 29)"
      ]
     },
     "execution_count": 5,
     "metadata": {},
     "output_type": "execute_result"
    }
   ],
   "source": [
    "data.shape"
   ]
  },
  {
   "cell_type": "markdown",
   "metadata": {
    "id": "jyLkJu4N5RT5"
   },
   "source": [
    "# 전처리"
   ]
  },
  {
   "cell_type": "markdown",
   "metadata": {
    "id": "LVux314N5TMz"
   },
   "source": [
    "## 1) 중복 제거"
   ]
  },
  {
   "cell_type": "code",
   "execution_count": 6,
   "metadata": {
    "colab": {
     "base_uri": "https://localhost:8080/"
    },
    "executionInfo": {
     "elapsed": 572,
     "status": "ok",
     "timestamp": 1699952772163,
     "user": {
      "displayName": "현예닮",
      "userId": "09810217778273348387"
     },
     "user_tz": -540
    },
    "id": "7kAK9vxFB2dg",
    "outputId": "f46781a4-f617-4e60-a205-6e2a0133db6e"
   },
   "outputs": [
    {
     "name": "stdout",
     "output_type": "stream",
     "text": [
      "Total duplicate rows = 0\n",
      "Data shape before removing duplicates = (284806, 29)\n"
     ]
    }
   ],
   "source": [
    "# 중복된 row 이는지 확인\n",
    "print(f\"Total duplicate rows = {data.duplicated().sum()}\")\n",
    "print(f\"Data shape before removing duplicates = {data.shape}\")"
   ]
  },
  {
   "cell_type": "code",
   "execution_count": 7,
   "metadata": {
    "colab": {
     "base_uri": "https://localhost:8080/"
    },
    "executionInfo": {
     "elapsed": 1163,
     "status": "ok",
     "timestamp": 1699952773324,
     "user": {
      "displayName": "현예닮",
      "userId": "09810217778273348387"
     },
     "user_tz": -540
    },
    "id": "fttWcl8b46TV",
    "outputId": "665142ec-7d66-44e2-b466-d660a838c540"
   },
   "outputs": [
    {
     "name": "stdout",
     "output_type": "stream",
     "text": [
      "Data shape after removing duplicates = (284806, 29)\n"
     ]
    }
   ],
   "source": [
    "# 중복된 행 제거\n",
    "data_cleaned = data.drop_duplicates()\n",
    "\n",
    "# 중복 제거 후의 데이터셋 크기 확인\n",
    "print(f\"Data shape after removing duplicates = {data_cleaned.shape}\")"
   ]
  },
  {
   "cell_type": "markdown",
   "metadata": {
    "id": "NAv2roV150Dg"
   },
   "source": [
    "## 데이터 불균형 처리 - SMOTE"
   ]
  },
  {
   "cell_type": "code",
   "execution_count": 8,
   "metadata": {
    "colab": {
     "base_uri": "https://localhost:8080/"
    },
    "executionInfo": {
     "elapsed": 4745,
     "status": "ok",
     "timestamp": 1699952778587,
     "user": {
      "displayName": "현예닮",
      "userId": "09810217778273348387"
     },
     "user_tz": -540
    },
    "id": "UzgvUeZ75x8Q",
    "outputId": "c9265bfd-4d42-4aa9-8abd-dd6ade7601c2"
   },
   "outputs": [
    {
     "name": "stdout",
     "output_type": "stream",
     "text": [
      "Requirement already satisfied: imbalanced-learn in c:\\users\\gch05\\anaconda3\\lib\\site-packages (0.11.0)\n",
      "Requirement already satisfied: numpy>=1.17.3 in c:\\users\\gch05\\anaconda3\\lib\\site-packages (from imbalanced-learn) (1.24.3)\n",
      "Requirement already satisfied: scipy>=1.5.0 in c:\\users\\gch05\\anaconda3\\lib\\site-packages (from imbalanced-learn) (1.11.1)\n",
      "Requirement already satisfied: scikit-learn>=1.0.2 in c:\\users\\gch05\\anaconda3\\lib\\site-packages (from imbalanced-learn) (1.3.2)\n",
      "Requirement already satisfied: joblib>=1.1.1 in c:\\users\\gch05\\anaconda3\\lib\\site-packages (from imbalanced-learn) (1.2.0)\n",
      "Requirement already satisfied: threadpoolctl>=2.0.0 in c:\\users\\gch05\\anaconda3\\lib\\site-packages (from imbalanced-learn) (2.2.0)\n"
     ]
    }
   ],
   "source": [
    "!pip install imbalanced-learn"
   ]
  },
  {
   "cell_type": "code",
   "execution_count": 9,
   "metadata": {
    "colab": {
     "base_uri": "https://localhost:8080/"
    },
    "executionInfo": {
     "elapsed": 7,
     "status": "ok",
     "timestamp": 1699952778587,
     "user": {
      "displayName": "현예닮",
      "userId": "09810217778273348387"
     },
     "user_tz": -540
    },
    "id": "9gqb5gM754NW",
    "outputId": "1096808b-88fd-4067-da43-1fb2c43eb2cb"
   },
   "outputs": [
    {
     "data": {
      "text/plain": [
       "target\n",
       "0    284314\n",
       "1       492\n",
       "Name: count, dtype: int64"
      ]
     },
     "execution_count": 9,
     "metadata": {},
     "output_type": "execute_result"
    }
   ],
   "source": [
    "data_cleaned['target'].value_counts()"
   ]
  },
  {
   "cell_type": "code",
   "execution_count": 10,
   "metadata": {
    "colab": {
     "base_uri": "https://localhost:8080/"
    },
    "executionInfo": {
     "elapsed": 692,
     "status": "ok",
     "timestamp": 1699952779274,
     "user": {
      "displayName": "현예닮",
      "userId": "09810217778273348387"
     },
     "user_tz": -540
    },
    "id": "BmnpoU3g531G",
    "outputId": "148a37ef-e714-4edb-baa0-535f0835c65b"
   },
   "outputs": [
    {
     "name": "stdout",
     "output_type": "stream",
     "text": [
      "<class 'pandas.core.frame.DataFrame'>\n",
      "RangeIndex: 284806 entries, 0 to 284805\n",
      "Data columns (total 28 columns):\n",
      " #   Column  Non-Null Count   Dtype  \n",
      "---  ------  --------------   -----  \n",
      " 0   V1      284806 non-null  float64\n",
      " 1   V2      284806 non-null  float64\n",
      " 2   V3      284806 non-null  float64\n",
      " 3   V4      284806 non-null  float64\n",
      " 4   V5      284806 non-null  float64\n",
      " 5   V6      284806 non-null  float64\n",
      " 6   V7      284806 non-null  float64\n",
      " 7   V8      284806 non-null  float64\n",
      " 8   V9      284806 non-null  float64\n",
      " 9   V10     284806 non-null  float64\n",
      " 10  V11     284806 non-null  float64\n",
      " 11  V12     284806 non-null  float64\n",
      " 12  V13     284806 non-null  float64\n",
      " 13  V14     284806 non-null  float64\n",
      " 14  V15     284806 non-null  float64\n",
      " 15  V16     284806 non-null  float64\n",
      " 16  V17     284806 non-null  float64\n",
      " 17  V18     284806 non-null  float64\n",
      " 18  V19     284806 non-null  float64\n",
      " 19  V20     284806 non-null  float64\n",
      " 20  V21     284806 non-null  float64\n",
      " 21  V22     284806 non-null  float64\n",
      " 22  V23     284806 non-null  float64\n",
      " 23  V24     284806 non-null  float64\n",
      " 24  V25     284806 non-null  float64\n",
      " 25  V26     284806 non-null  float64\n",
      " 26  V27     284806 non-null  float64\n",
      " 27  V28     284806 non-null  float64\n",
      "dtypes: float64(28)\n",
      "memory usage: 60.8 MB\n",
      "None\n",
      "0         0\n",
      "1         0\n",
      "2         0\n",
      "3         0\n",
      "4         0\n",
      "         ..\n",
      "284801    0\n",
      "284802    0\n",
      "284803    0\n",
      "284804    0\n",
      "284805    0\n",
      "Name: target, Length: 284806, dtype: int64\n"
     ]
    }
   ],
   "source": [
    "y = data_cleaned['target']\n",
    "X = data_cleaned.drop(['target'], axis = 1)\n",
    "print(X.info())\n",
    "print(y)"
   ]
  },
  {
   "cell_type": "code",
   "execution_count": 11,
   "metadata": {},
   "outputs": [
    {
     "name": "stdout",
     "output_type": "stream",
     "text": [
      "Requirement already satisfied: scikit-learn in c:\\users\\gch05\\anaconda3\\lib\\site-packages (1.3.2)\n",
      "Requirement already satisfied: numpy<2.0,>=1.17.3 in c:\\users\\gch05\\anaconda3\\lib\\site-packages (from scikit-learn) (1.24.3)\n",
      "Requirement already satisfied: scipy>=1.5.0 in c:\\users\\gch05\\anaconda3\\lib\\site-packages (from scikit-learn) (1.11.1)\n",
      "Requirement already satisfied: joblib>=1.1.1 in c:\\users\\gch05\\anaconda3\\lib\\site-packages (from scikit-learn) (1.2.0)\n",
      "Requirement already satisfied: threadpoolctl>=2.0.0 in c:\\users\\gch05\\anaconda3\\lib\\site-packages (from scikit-learn) (2.2.0)\n"
     ]
    }
   ],
   "source": [
    "!pip install scikit-learn"
   ]
  },
  {
   "cell_type": "code",
   "execution_count": 12,
   "metadata": {
    "colab": {
     "base_uri": "https://localhost:8080/"
    },
    "executionInfo": {
     "elapsed": 550,
     "status": "ok",
     "timestamp": 1699952779821,
     "user": {
      "displayName": "현예닮",
      "userId": "09810217778273348387"
     },
     "user_tz": -540
    },
    "id": "XihaO71w6AHl",
    "outputId": "b9d591db-6e4b-4b08-883e-61e79662c5d6"
   },
   "outputs": [
    {
     "data": {
      "text/plain": [
       "target\n",
       "0    284314\n",
       "1    284314\n",
       "Name: count, dtype: int64"
      ]
     },
     "execution_count": 12,
     "metadata": {},
     "output_type": "execute_result"
    }
   ],
   "source": [
    "from imblearn.over_sampling import SMOTE\n",
    "# SMOTE 객체 생성\n",
    "smote = SMOTE(random_state=42)\n",
    "\n",
    "# 데이터 업샘플링 수행\n",
    "X_resampled, y_resampled = smote.fit_resample(X, y)\n",
    "\n",
    "# 업샘플링된 데이터의 클래스 분포 확인\n",
    "resampled_class_distribution = pd.Series(y_resampled).value_counts()\n",
    "\n",
    "resampled_class_distribution"
   ]
  },
  {
   "cell_type": "code",
   "execution_count": 13,
   "metadata": {
    "colab": {
     "base_uri": "https://localhost:8080/"
    },
    "executionInfo": {
     "elapsed": 5,
     "status": "ok",
     "timestamp": 1699952781116,
     "user": {
      "displayName": "현예닮",
      "userId": "09810217778273348387"
     },
     "user_tz": -540
    },
    "id": "eQqpMvos6EV5",
    "outputId": "a1ac3849-96b3-4c29-96c8-2fcdb0dcefb0"
   },
   "outputs": [
    {
     "data": {
      "text/plain": [
       "(568628, 29)"
      ]
     },
     "execution_count": 13,
     "metadata": {},
     "output_type": "execute_result"
    }
   ],
   "source": [
    "data_cleaned = pd.concat([X_resampled, y_resampled], axis=1)\n",
    "data_cleaned.shape"
   ]
  },
  {
   "cell_type": "code",
   "execution_count": 14,
   "metadata": {
    "colab": {
     "base_uri": "https://localhost:8080/"
    },
    "executionInfo": {
     "elapsed": 2,
     "status": "ok",
     "timestamp": 1699952786370,
     "user": {
      "displayName": "현예닮",
      "userId": "09810217778273348387"
     },
     "user_tz": -540
    },
    "id": "N9PTDErh7IVq",
    "outputId": "24ee5658-c2c4-4b0f-d30a-1d2371a5ce81"
   },
   "outputs": [
    {
     "data": {
      "text/plain": [
       "(568628, 29)"
      ]
     },
     "execution_count": 14,
     "metadata": {},
     "output_type": "execute_result"
    }
   ],
   "source": [
    "data_cleaned.shape"
   ]
  },
  {
   "cell_type": "markdown",
   "metadata": {
    "id": "prQwYVW8_xNX"
   },
   "source": [
    "# Modeling"
   ]
  },
  {
   "cell_type": "code",
   "execution_count": 15,
   "metadata": {
    "id": "tZWdWILF_onp"
   },
   "outputs": [
    {
     "name": "stdout",
     "output_type": "stream",
     "text": [
      "Validation Accuracy: 0.9964124298753143\n",
      "Validation Classification Report:\n",
      "               precision    recall  f1-score   support\n",
      "\n",
      "           0       1.00      0.99      1.00     56794\n",
      "           1       0.99      1.00      1.00     56932\n",
      "\n",
      "    accuracy                           1.00    113726\n",
      "   macro avg       1.00      1.00      1.00    113726\n",
      "weighted avg       1.00      1.00      1.00    113726\n",
      "\n"
     ]
    }
   ],
   "source": [
    "from sklearn.model_selection import train_test_split\n",
    "from sklearn.svm import SVC\n",
    "from sklearn.metrics import classification_report, accuracy_score\n",
    "SEED = 42\n",
    "\n",
    "# Split the data into features and target variable\n",
    "X = data_cleaned.drop(columns=[ 'target'])  # Features\n",
    "y = data_cleaned['target']\n",
    "                   # Target variable\n",
    "X_train, X_val, y_train, y_val = train_test_split(X, y, test_size=0.2, random_state=42)\n",
    "\n",
    "# 비선형 SVM 분류기 초기화 (RBF 커널 사용)\n",
    "svm_model = SVC(kernel='rbf', random_state=SEED)\n",
    "\n",
    "# 모델 훈련\n",
    "svm_model.fit(X_train, y_train)\n",
    "\n",
    "# 검증 세트에 대한 예측 수행\n",
    "y_val_pred = svm_model.predict(X_val)\n",
    "\n",
    "# 검증 세트에 대한 모델 성능 평가\n",
    "val_accuracy = accuracy_score(y_val, y_val_pred)\n",
    "val_classification_report = classification_report(y_val, y_val_pred)\n",
    "\n",
    "print(\"Validation Accuracy:\", val_accuracy)\n",
    "print(\"Validation Classification Report:\\n\", val_classification_report)\n",
    "\n"
   ]
  },
  {
   "cell_type": "code",
   "execution_count": 16,
   "metadata": {
    "id": "kYvPRQhFACWZ"
   },
   "outputs": [
    {
     "name": "stdout",
     "output_type": "stream",
     "text": [
      "0.9964124298753143\n",
      "---------------------------------------------------------\n",
      "              precision    recall  f1-score   support\n",
      "\n",
      "           0       1.00      0.99      1.00     56794\n",
      "           1       0.99      1.00      1.00     56932\n",
      "\n",
      "    accuracy                           1.00    113726\n",
      "   macro avg       1.00      1.00      1.00    113726\n",
      "weighted avg       1.00      1.00      1.00    113726\n",
      "\n"
     ]
    }
   ],
   "source": [
    "print(val_accuracy)\n",
    "print('---------------------------------------------------------')\n",
    "print(val_classification_report)"
   ]
  },
  {
   "cell_type": "markdown",
   "metadata": {},
   "source": [
    "# 예닮_Data scaling"
   ]
  },
  {
   "cell_type": "code",
   "execution_count": 15,
   "metadata": {},
   "outputs": [],
   "source": [
    "data_cleaned_yd = data_cleaned.copy()"
   ]
  },
  {
   "cell_type": "code",
   "execution_count": 17,
   "metadata": {},
   "outputs": [
    {
     "data": {
      "text/html": [
       "<div>\n",
       "<style scoped>\n",
       "    .dataframe tbody tr th:only-of-type {\n",
       "        vertical-align: middle;\n",
       "    }\n",
       "\n",
       "    .dataframe tbody tr th {\n",
       "        vertical-align: top;\n",
       "    }\n",
       "\n",
       "    .dataframe thead th {\n",
       "        text-align: right;\n",
       "    }\n",
       "</style>\n",
       "<table border=\"1\" class=\"dataframe\">\n",
       "  <thead>\n",
       "    <tr style=\"text-align: right;\">\n",
       "      <th></th>\n",
       "      <th>target</th>\n",
       "      <th>V3_log_transformed</th>\n",
       "      <th>V5_log_transformed</th>\n",
       "      <th>V7_log_transformed</th>\n",
       "      <th>V9_log_transformed</th>\n",
       "      <th>V10_log_transformed</th>\n",
       "      <th>V12_log_transformed</th>\n",
       "      <th>V14_log_transformed</th>\n",
       "      <th>V15_log_transformed</th>\n",
       "      <th>V16_log_transformed</th>\n",
       "      <th>...</th>\n",
       "      <th>V21_squared_transformed</th>\n",
       "      <th>V1_minmax_transformed</th>\n",
       "      <th>V4_minmax_transformed</th>\n",
       "      <th>V6_minmax_transformed</th>\n",
       "      <th>V8_minmax_transformed</th>\n",
       "      <th>V13_minmax_transformed</th>\n",
       "      <th>V22_minmax_transformed</th>\n",
       "      <th>V23_minmax_transformed</th>\n",
       "      <th>V25_minmax_transformed</th>\n",
       "      <th>V26_minmax_transformed</th>\n",
       "    </tr>\n",
       "  </thead>\n",
       "  <tbody>\n",
       "    <tr>\n",
       "      <th>0</th>\n",
       "      <td>0</td>\n",
       "      <td>3.497852</td>\n",
       "      <td>3.317053</td>\n",
       "      <td>3.211946</td>\n",
       "      <td>3.005139</td>\n",
       "      <td>3.224547</td>\n",
       "      <td>2.915893</td>\n",
       "      <td>2.474494</td>\n",
       "      <td>3.507461</td>\n",
       "      <td>2.918635</td>\n",
       "      <td>...</td>\n",
       "      <td>0.311103</td>\n",
       "      <td>0.461003</td>\n",
       "      <td>0.347621</td>\n",
       "      <td>0.397408</td>\n",
       "      <td>0.471259</td>\n",
       "      <td>0.465575</td>\n",
       "      <td>0.457256</td>\n",
       "      <td>0.398142</td>\n",
       "      <td>0.455267</td>\n",
       "      <td>0.430776</td>\n",
       "    </tr>\n",
       "    <tr>\n",
       "      <th>1</th>\n",
       "      <td>0</td>\n",
       "      <td>3.501885</td>\n",
       "      <td>3.374048</td>\n",
       "      <td>3.230613</td>\n",
       "      <td>3.019086</td>\n",
       "      <td>3.167239</td>\n",
       "      <td>2.803769</td>\n",
       "      <td>2.656599</td>\n",
       "      <td>3.554492</td>\n",
       "      <td>2.910527</td>\n",
       "      <td>...</td>\n",
       "      <td>0.025557</td>\n",
       "      <td>0.450439</td>\n",
       "      <td>0.347493</td>\n",
       "      <td>0.409417</td>\n",
       "      <td>0.455616</td>\n",
       "      <td>0.470091</td>\n",
       "      <td>0.468751</td>\n",
       "      <td>0.388390</td>\n",
       "      <td>0.468648</td>\n",
       "      <td>0.415897</td>\n",
       "    </tr>\n",
       "    <tr>\n",
       "      <th>2</th>\n",
       "      <td>0</td>\n",
       "      <td>3.473256</td>\n",
       "      <td>3.424976</td>\n",
       "      <td>3.228439</td>\n",
       "      <td>2.999981</td>\n",
       "      <td>3.178465</td>\n",
       "      <td>2.845195</td>\n",
       "      <td>2.749169</td>\n",
       "      <td>3.506808</td>\n",
       "      <td>2.906336</td>\n",
       "      <td>...</td>\n",
       "      <td>0.219320</td>\n",
       "      <td>0.545693</td>\n",
       "      <td>0.351312</td>\n",
       "      <td>0.391170</td>\n",
       "      <td>0.442796</td>\n",
       "      <td>0.463943</td>\n",
       "      <td>0.464078</td>\n",
       "      <td>0.396857</td>\n",
       "      <td>0.460127</td>\n",
       "      <td>0.389120</td>\n",
       "    </tr>\n",
       "    <tr>\n",
       "      <th>3</th>\n",
       "      <td>0</td>\n",
       "      <td>3.494503</td>\n",
       "      <td>3.335671</td>\n",
       "      <td>3.217180</td>\n",
       "      <td>2.998699</td>\n",
       "      <td>3.240689</td>\n",
       "      <td>2.804290</td>\n",
       "      <td>2.674310</td>\n",
       "      <td>3.506606</td>\n",
       "      <td>2.901787</td>\n",
       "      <td>...</td>\n",
       "      <td>0.139092</td>\n",
       "      <td>0.485674</td>\n",
       "      <td>0.334878</td>\n",
       "      <td>0.416498</td>\n",
       "      <td>0.467401</td>\n",
       "      <td>0.463254</td>\n",
       "      <td>0.468348</td>\n",
       "      <td>0.391894</td>\n",
       "      <td>0.483639</td>\n",
       "      <td>0.387623</td>\n",
       "    </tr>\n",
       "    <tr>\n",
       "      <th>4</th>\n",
       "      <td>0</td>\n",
       "      <td>3.490429</td>\n",
       "      <td>3.366184</td>\n",
       "      <td>3.162138</td>\n",
       "      <td>3.003610</td>\n",
       "      <td>3.222483</td>\n",
       "      <td>2.866141</td>\n",
       "      <td>2.747091</td>\n",
       "      <td>3.541557</td>\n",
       "      <td>2.848338</td>\n",
       "      <td>...</td>\n",
       "      <td>0.562234</td>\n",
       "      <td>0.446641</td>\n",
       "      <td>0.327375</td>\n",
       "      <td>0.417469</td>\n",
       "      <td>0.467517</td>\n",
       "      <td>0.465363</td>\n",
       "      <td>0.459466</td>\n",
       "      <td>0.392331</td>\n",
       "      <td>0.457060</td>\n",
       "      <td>0.375430</td>\n",
       "    </tr>\n",
       "  </tbody>\n",
       "</table>\n",
       "<p>5 rows × 29 columns</p>\n",
       "</div>"
      ],
      "text/plain": [
       "   target  V3_log_transformed  V5_log_transformed  V7_log_transformed  \\\n",
       "0       0            3.497852            3.317053            3.211946   \n",
       "1       0            3.501885            3.374048            3.230613   \n",
       "2       0            3.473256            3.424976            3.228439   \n",
       "3       0            3.494503            3.335671            3.217180   \n",
       "4       0            3.490429            3.366184            3.162138   \n",
       "\n",
       "   V9_log_transformed  V10_log_transformed  V12_log_transformed  \\\n",
       "0            3.005139             3.224547             2.915893   \n",
       "1            3.019086             3.167239             2.803769   \n",
       "2            2.999981             3.178465             2.845195   \n",
       "3            2.998699             3.240689             2.804290   \n",
       "4            3.003610             3.222483             2.866141   \n",
       "\n",
       "   V14_log_transformed  V15_log_transformed  V16_log_transformed  ...  \\\n",
       "0             2.474494             3.507461             2.918635  ...   \n",
       "1             2.656599             3.554492             2.910527  ...   \n",
       "2             2.749169             3.506808             2.906336  ...   \n",
       "3             2.674310             3.506606             2.901787  ...   \n",
       "4             2.747091             3.541557             2.848338  ...   \n",
       "\n",
       "   V21_squared_transformed  V1_minmax_transformed  V4_minmax_transformed  \\\n",
       "0                 0.311103               0.461003               0.347621   \n",
       "1                 0.025557               0.450439               0.347493   \n",
       "2                 0.219320               0.545693               0.351312   \n",
       "3                 0.139092               0.485674               0.334878   \n",
       "4                 0.562234               0.446641               0.327375   \n",
       "\n",
       "   V6_minmax_transformed  V8_minmax_transformed  V13_minmax_transformed  \\\n",
       "0               0.397408               0.471259                0.465575   \n",
       "1               0.409417               0.455616                0.470091   \n",
       "2               0.391170               0.442796                0.463943   \n",
       "3               0.416498               0.467401                0.463254   \n",
       "4               0.417469               0.467517                0.465363   \n",
       "\n",
       "   V22_minmax_transformed  V23_minmax_transformed  V25_minmax_transformed  \\\n",
       "0                0.457256                0.398142                0.455267   \n",
       "1                0.468751                0.388390                0.468648   \n",
       "2                0.464078                0.396857                0.460127   \n",
       "3                0.468348                0.391894                0.483639   \n",
       "4                0.459466                0.392331                0.457060   \n",
       "\n",
       "   V26_minmax_transformed  \n",
       "0                0.430776  \n",
       "1                0.415897  \n",
       "2                0.389120  \n",
       "3                0.387623  \n",
       "4                0.375430  \n",
       "\n",
       "[5 rows x 29 columns]"
      ]
     },
     "execution_count": 17,
     "metadata": {},
     "output_type": "execute_result"
    }
   ],
   "source": [
    "from sklearn.preprocessing import MinMaxScaler\n",
    "#꼬리가 오른쪽으로 긴 변수\n",
    "pro_skew = ['V3', 'V5', 'V7','V9', 'V10', 'V12', 'V14', 'V15', 'V16', 'V17', 'V18', 'V24','V27', 'V28']\n",
    "neg_skew = ['V2', 'V11', 'V19', 'V20', 'V21']\n",
    "normal_col = ['V1', 'V4','V6', 'V8', 'V13', 'V22', 'V23', 'V25', 'V26' ]\n",
    "\n",
    "# pro_skew 로그변환 적용\n",
    "# 변수 내의 최소값이 0 이하인 경우, 모든 값을 조금 올려서 로그 변환이 가능하도록 조정\n",
    "if (data_cleaned_yd[pro_skew].min() <= 0).any():  # .any()를 추가하여 Series 전체에서 하나라도 조건을 만족하는지 확인\n",
    "    for col in pro_skew:\n",
    "        if data_cleaned_yd[col].min() <= 0:\n",
    "            data_cleaned_yd[col] += abs(data_cleaned_yd[col].min()) + 0.1\n",
    "\n",
    "for col in pro_skew:\n",
    "    data_cleaned_yd[col + '_log_transformed'] = np.log(data_cleaned_yd[col])\n",
    "\n",
    "\n",
    "# neg_skew는 음의 왜도.\n",
    "# 제곱 변환 적용\n",
    "for col in neg_skew:\n",
    "  data_cleaned[col + '_squared_transformed'] = data_cleaned_yd[col] ** 2\n",
    "\n",
    "#normal_col\n",
    "# 정규화할 변수 리스트\n",
    "scaler = MinMaxScaler()\n",
    "for col in normal_col:\n",
    "    data_cleaned_yd[col + '_minmax_transformed'] = scaler.fit_transform(data_cleaned_yd[col].values.reshape(-1, 1)) # 2차원 배열로 바꿔서 실행\n",
    "\n",
    "\n",
    "# 적용 다한 column은 drop\n",
    "data_cleaned_yd.drop(columns = pro_skew + normal_col + neg_skew, inplace = True)\n",
    "\n",
    "data_cleaned_yd.head()"
   ]
  },
  {
   "cell_type": "code",
   "execution_count": null,
   "metadata": {},
   "outputs": [],
   "source": [
    "from sklearn.model_selection import train_test_split\n",
    "from sklearn.svm import SVC\n",
    "from sklearn.metrics import classification_report, accuracy_score\n",
    "SEED = 42\n",
    "\n",
    "# Split the data into features and target variable\n",
    "X_yd = data_cleaned_yd.drop(columns=[ 'target'])  # Features\n",
    "y_yd = data_cleaned_yd['target']\n",
    "                   # Target variable\n",
    "X_train_yd, X_val_yd, y_train_yd, y_val_yd = train_test_split(X_yd, y_yd, test_size=0.2, random_state=42)\n",
    "\n",
    "# 비선형 SVM 분류기 초기화 (RBF 커널 사용)\n",
    "svm_model_yd = SVC(kernel='rbf', random_state=SEED)\n",
    "\n",
    "# 모델 훈련\n",
    "svm_model_yd.fit(X_train_yd, y_train_yd)"
   ]
  },
  {
   "cell_type": "code",
   "execution_count": 20,
   "metadata": {},
   "outputs": [
    {
     "name": "stdout",
     "output_type": "stream",
     "text": [
      "Validation Accuracy: 0.6541160332729543\n",
      "Validation Classification Report:\n",
      "               precision    recall  f1-score   support\n",
      "\n",
      "           0       0.69      0.57      0.62     56794\n",
      "           1       0.63      0.74      0.68     56932\n",
      "\n",
      "    accuracy                           0.65    113726\n",
      "   macro avg       0.66      0.65      0.65    113726\n",
      "weighted avg       0.66      0.65      0.65    113726\n",
      "\n"
     ]
    }
   ],
   "source": [
    "# 검증 세트에 대한 예측 수행\n",
    "y_val_pred_yd = svm_model_yd.predict(X_val_yd)\n",
    "\n",
    "# 검증 세트에 대한 모델 성능 평가\n",
    "val_accuracy_yd = accuracy_score(y_val_yd, y_val_pred_yd)\n",
    "val_classification_report_yd = classification_report(y_val_yd, y_val_pred_yd)\n",
    "\n",
    "print(\"Validation Accuracy:\", val_accuracy_yd)\n",
    "print(\"Validation Classification Report:\\n\", val_classification_report_yd)\n"
   ]
  },
  {
   "cell_type": "code",
   "execution_count": 21,
   "metadata": {},
   "outputs": [
    {
     "name": "stdout",
     "output_type": "stream",
     "text": [
      "0.6541160332729543\n",
      "---------------------------------------------------------\n",
      "              precision    recall  f1-score   support\n",
      "\n",
      "           0       0.69      0.57      0.62     56794\n",
      "           1       0.63      0.74      0.68     56932\n",
      "\n",
      "    accuracy                           0.65    113726\n",
      "   macro avg       0.66      0.65      0.65    113726\n",
      "weighted avg       0.66      0.65      0.65    113726\n",
      "\n"
     ]
    }
   ],
   "source": [
    "print(val_accuracy_yd)\n",
    "print('---------------------------------------------------------')\n",
    "print(val_classification_report_yd)"
   ]
  },
  {
   "cell_type": "markdown",
   "metadata": {},
   "source": [
    "# 진기 Scaling"
   ]
  },
  {
   "cell_type": "code",
   "execution_count": 15,
   "metadata": {},
   "outputs": [],
   "source": [
    "data_cleaned_jg = data_cleaned.copy()"
   ]
  },
  {
   "cell_type": "code",
   "execution_count": 16,
   "metadata": {},
   "outputs": [],
   "source": [
    "from sklearn.preprocessing import MinMaxScaler, QuantileTransformer\n",
    "import pandas as pd\n",
    "import numpy as np\n",
    "\n",
    "def quantileTransform(data, columns):\n",
    "    qt = QuantileTransformer()\n",
    "    scaled_data = pd.DataFrame(qt.fit_transform(data[columns]), columns=columns)\n",
    "    return scaled_data\n",
    "\n",
    "def boxcox_transform(data, columns, lambda_value):\n",
    "    if lambda_value == 0:\n",
    "        return np.log(data[columns])\n",
    "    else:\n",
    "        return (data[columns] ** lambda_value - 1) / lambda_value\n",
    "\n",
    "\n",
    "left_skewed_cols = ['V3', 'V5', 'V7', 'V9', 'V10', 'V12', 'V14', 'V15', 'V16', 'V17', 'V18', 'V24', 'V27', 'V28']\n",
    "right_skewed_cols = ['V2', 'V11', 'V19', 'V20', 'V21']\n",
    "\n",
    "\n",
    "if (data_cleaned_jg[left_skewed_cols].min(axis=0) <= 0).any():\n",
    "    for col in left_skewed_cols:\n",
    "        if data_cleaned_jg[col].min() <= 0:\n",
    "            data_cleaned_jg[col] += abs(data_cleaned_jg[col].min()) + 0.1\n",
    "\n",
    "# train_scaler\n",
    "train_left_skewed = boxcox_transform(data_cleaned_jg, left_skewed_cols)\n",
    "train_right_skewed = quantileTransform(data_cleaned_jg, right_skewed_cols)\n",
    "\n",
    "train_transformed_jg = pd.concat([data_cleaned_jg, train_left_skewed.add_suffix('_log_Transform'), train_right_skewed.add_suffix('_qt_Transform')], axis=1)\n",
    "\n",
    "# 그 외 수치\n",
    "# minmax? standard?\n",
    "from sklearn.preprocessing import MinMaxScaler, RobustScaler\n",
    "from sklearn.preprocessing import StandardScaler\n",
    "s_columns = ['V1', 'V4', 'V6', 'V8', 'V13', 'V22', 'V23', 'V25', 'V26']\n",
    "standardScaler = StandardScaler()\n",
    "\n",
    "for col in s_columns:\n",
    "    train_transformed_sm[col + '_standard_Transform'] = standardScaler.fit_transform(train_transformed_sm[[col]])"
   ]
  },
  {
   "cell_type": "code",
   "execution_count": 20,
   "metadata": {},
   "outputs": [
    {
     "data": {
      "text/html": [
       "<div>\n",
       "<style scoped>\n",
       "    .dataframe tbody tr th:only-of-type {\n",
       "        vertical-align: middle;\n",
       "    }\n",
       "\n",
       "    .dataframe tbody tr th {\n",
       "        vertical-align: top;\n",
       "    }\n",
       "\n",
       "    .dataframe thead th {\n",
       "        text-align: right;\n",
       "    }\n",
       "</style>\n",
       "<table border=\"1\" class=\"dataframe\">\n",
       "  <thead>\n",
       "    <tr style=\"text-align: right;\">\n",
       "      <th></th>\n",
       "      <th>target</th>\n",
       "      <th>V3_log_Transform</th>\n",
       "      <th>V5_log_Transform</th>\n",
       "      <th>V7_log_Transform</th>\n",
       "      <th>V9_log_Transform</th>\n",
       "      <th>V10_log_Transform</th>\n",
       "      <th>V12_log_Transform</th>\n",
       "      <th>V14_log_Transform</th>\n",
       "      <th>V15_log_Transform</th>\n",
       "      <th>V16_log_Transform</th>\n",
       "      <th>...</th>\n",
       "      <th>V21_qt_Transform</th>\n",
       "      <th>V1_MM_Transform</th>\n",
       "      <th>V4_MM_Transform</th>\n",
       "      <th>V6_MM_Transform</th>\n",
       "      <th>V8_MM_Transform</th>\n",
       "      <th>V13_MM_Transform</th>\n",
       "      <th>V22_MM_Transform</th>\n",
       "      <th>V23_MM_Transform</th>\n",
       "      <th>V25_MM_Transform</th>\n",
       "      <th>V26_MM_Transform</th>\n",
       "    </tr>\n",
       "  </thead>\n",
       "  <tbody>\n",
       "    <tr>\n",
       "      <th>0</th>\n",
       "      <td>0</td>\n",
       "      <td>3.527665</td>\n",
       "      <td>3.352671</td>\n",
       "      <td>3.251434</td>\n",
       "      <td>3.053483</td>\n",
       "      <td>3.263550</td>\n",
       "      <td>2.968633</td>\n",
       "      <td>2.555342</td>\n",
       "      <td>3.536994</td>\n",
       "      <td>2.971235</td>\n",
       "      <td>...</td>\n",
       "      <td>0.195995</td>\n",
       "      <td>0.461003</td>\n",
       "      <td>0.347621</td>\n",
       "      <td>0.397408</td>\n",
       "      <td>0.471259</td>\n",
       "      <td>0.465575</td>\n",
       "      <td>0.457256</td>\n",
       "      <td>0.398142</td>\n",
       "      <td>0.455267</td>\n",
       "      <td>0.430776</td>\n",
       "    </tr>\n",
       "    <tr>\n",
       "      <th>1</th>\n",
       "      <td>0</td>\n",
       "      <td>3.531580</td>\n",
       "      <td>3.407726</td>\n",
       "      <td>3.269385</td>\n",
       "      <td>3.066776</td>\n",
       "      <td>3.208496</td>\n",
       "      <td>2.862586</td>\n",
       "      <td>2.724432</td>\n",
       "      <td>3.582686</td>\n",
       "      <td>2.963544</td>\n",
       "      <td>...</td>\n",
       "      <td>0.295873</td>\n",
       "      <td>0.450439</td>\n",
       "      <td>0.347493</td>\n",
       "      <td>0.409417</td>\n",
       "      <td>0.455616</td>\n",
       "      <td>0.470091</td>\n",
       "      <td>0.468751</td>\n",
       "      <td>0.388390</td>\n",
       "      <td>0.468648</td>\n",
       "      <td>0.415897</td>\n",
       "    </tr>\n",
       "    <tr>\n",
       "      <th>2</th>\n",
       "      <td>0</td>\n",
       "      <td>3.503800</td>\n",
       "      <td>3.457007</td>\n",
       "      <td>3.267293</td>\n",
       "      <td>3.048569</td>\n",
       "      <td>3.219271</td>\n",
       "      <td>2.901692</td>\n",
       "      <td>2.811186</td>\n",
       "      <td>3.536359</td>\n",
       "      <td>2.959569</td>\n",
       "      <td>...</td>\n",
       "      <td>0.671576</td>\n",
       "      <td>0.545693</td>\n",
       "      <td>0.351312</td>\n",
       "      <td>0.391170</td>\n",
       "      <td>0.442796</td>\n",
       "      <td>0.463943</td>\n",
       "      <td>0.464078</td>\n",
       "      <td>0.396857</td>\n",
       "      <td>0.460127</td>\n",
       "      <td>0.389120</td>\n",
       "    </tr>\n",
       "    <tr>\n",
       "      <th>3</th>\n",
       "      <td>0</td>\n",
       "      <td>3.524415</td>\n",
       "      <td>3.370643</td>\n",
       "      <td>3.256466</td>\n",
       "      <td>3.047348</td>\n",
       "      <td>3.279079</td>\n",
       "      <td>2.863078</td>\n",
       "      <td>2.740991</td>\n",
       "      <td>3.536163</td>\n",
       "      <td>2.955257</td>\n",
       "      <td>...</td>\n",
       "      <td>0.561215</td>\n",
       "      <td>0.485674</td>\n",
       "      <td>0.334878</td>\n",
       "      <td>0.416498</td>\n",
       "      <td>0.467401</td>\n",
       "      <td>0.463254</td>\n",
       "      <td>0.468348</td>\n",
       "      <td>0.391894</td>\n",
       "      <td>0.483639</td>\n",
       "      <td>0.387623</td>\n",
       "    </tr>\n",
       "    <tr>\n",
       "      <th>4</th>\n",
       "      <td>0</td>\n",
       "      <td>3.520461</td>\n",
       "      <td>3.400123</td>\n",
       "      <td>3.203601</td>\n",
       "      <td>3.052027</td>\n",
       "      <td>3.261565</td>\n",
       "      <td>2.921498</td>\n",
       "      <td>2.809234</td>\n",
       "      <td>3.570114</td>\n",
       "      <td>2.904662</td>\n",
       "      <td>...</td>\n",
       "      <td>0.892598</td>\n",
       "      <td>0.446641</td>\n",
       "      <td>0.327375</td>\n",
       "      <td>0.417469</td>\n",
       "      <td>0.467517</td>\n",
       "      <td>0.465363</td>\n",
       "      <td>0.459466</td>\n",
       "      <td>0.392331</td>\n",
       "      <td>0.457060</td>\n",
       "      <td>0.375430</td>\n",
       "    </tr>\n",
       "  </tbody>\n",
       "</table>\n",
       "<p>5 rows × 29 columns</p>\n",
       "</div>"
      ],
      "text/plain": [
       "   target  V3_log_Transform  V5_log_Transform  V7_log_Transform  \\\n",
       "0       0          3.527665          3.352671          3.251434   \n",
       "1       0          3.531580          3.407726          3.269385   \n",
       "2       0          3.503800          3.457007          3.267293   \n",
       "3       0          3.524415          3.370643          3.256466   \n",
       "4       0          3.520461          3.400123          3.203601   \n",
       "\n",
       "   V9_log_Transform  V10_log_Transform  V12_log_Transform  V14_log_Transform  \\\n",
       "0          3.053483           3.263550           2.968633           2.555342   \n",
       "1          3.066776           3.208496           2.862586           2.724432   \n",
       "2          3.048569           3.219271           2.901692           2.811186   \n",
       "3          3.047348           3.279079           2.863078           2.740991   \n",
       "4          3.052027           3.261565           2.921498           2.809234   \n",
       "\n",
       "   V15_log_Transform  V16_log_Transform  ...  V21_qt_Transform  \\\n",
       "0           3.536994           2.971235  ...          0.195995   \n",
       "1           3.582686           2.963544  ...          0.295873   \n",
       "2           3.536359           2.959569  ...          0.671576   \n",
       "3           3.536163           2.955257  ...          0.561215   \n",
       "4           3.570114           2.904662  ...          0.892598   \n",
       "\n",
       "   V1_MM_Transform  V4_MM_Transform  V6_MM_Transform  V8_MM_Transform  \\\n",
       "0         0.461003         0.347621         0.397408         0.471259   \n",
       "1         0.450439         0.347493         0.409417         0.455616   \n",
       "2         0.545693         0.351312         0.391170         0.442796   \n",
       "3         0.485674         0.334878         0.416498         0.467401   \n",
       "4         0.446641         0.327375         0.417469         0.467517   \n",
       "\n",
       "   V13_MM_Transform  V22_MM_Transform  V23_MM_Transform  V25_MM_Transform  \\\n",
       "0          0.465575          0.457256          0.398142          0.455267   \n",
       "1          0.470091          0.468751          0.388390          0.468648   \n",
       "2          0.463943          0.464078          0.396857          0.460127   \n",
       "3          0.463254          0.468348          0.391894          0.483639   \n",
       "4          0.465363          0.459466          0.392331          0.457060   \n",
       "\n",
       "   V26_MM_Transform  \n",
       "0          0.430776  \n",
       "1          0.415897  \n",
       "2          0.389120  \n",
       "3          0.387623  \n",
       "4          0.375430  \n",
       "\n",
       "[5 rows x 29 columns]"
      ]
     },
     "execution_count": 20,
     "metadata": {},
     "output_type": "execute_result"
    }
   ],
   "source": [
    "Train_jg = train_transformed_jg.copy()\n",
    "Train_jg.drop(columns = left_skewed_cols + right_skewed_cols + s_columns, inplace = True)\n",
    "Train_jg.head()"
   ]
  },
  {
   "cell_type": "code",
   "execution_count": 22,
   "metadata": {},
   "outputs": [
    {
     "name": "stdout",
     "output_type": "stream",
     "text": [
      "Validation Accuracy: 0.6546699963069131\n",
      "Validation Classification Report:\n",
      "               precision    recall  f1-score   support\n",
      "\n",
      "           0       0.69      0.55      0.62     56794\n",
      "           1       0.63      0.76      0.69     56932\n",
      "\n",
      "    accuracy                           0.65    113726\n",
      "   macro avg       0.66      0.65      0.65    113726\n",
      "weighted avg       0.66      0.65      0.65    113726\n",
      "\n"
     ]
    }
   ],
   "source": [
    "from sklearn.model_selection import train_test_split\n",
    "from sklearn.svm import SVC\n",
    "from sklearn.metrics import classification_report, accuracy_score\n",
    "SEED = 42\n",
    "\n",
    "# Split the data into features and target variable\n",
    "X_jg = Train_jg.drop(columns=[ 'target'])  # Features\n",
    "y_jg = Train_jg['target']\n",
    "                   # Target variable\n",
    "X_train_jg, X_val_jg, y_train_jg, y_val_jg = train_test_split(X_jg, y_jg, test_size=0.2, random_state=42)\n",
    "\n",
    "# 비선형 SVM 분류기 초기화 (RBF 커널 사용)\n",
    "svm_model_jg = SVC(kernel='rbf', random_state=SEED)\n",
    "\n",
    "# 모델 훈련\n",
    "svm_model_jg.fit(X_train_jg, y_train_jg)\n",
    "\n",
    "# 검증 세트에 대한 예측 수행\n",
    "y_val_pred_jg = svm_model_jg.predict(X_val_jg)\n",
    "\n",
    "# 검증 세트에 대한 모델 성능 평가\n",
    "val_accuracy_jg = accuracy_score(y_val_jg, y_val_pred_jg)\n",
    "val_classification_report_jg = classification_report(y_val_jg, y_val_pred_jg)\n",
    "\n",
    "print(\"Validation Accuracy:\", val_accuracy_jg)\n",
    "print(\"Validation Classification Report:\\n\", val_classification_report_jg)\n",
    "\n"
   ]
  },
  {
   "cell_type": "code",
   "execution_count": 23,
   "metadata": {},
   "outputs": [
    {
     "name": "stdout",
     "output_type": "stream",
     "text": [
      "0.6546699963069131\n",
      "---------------------------------------------------------\n",
      "              precision    recall  f1-score   support\n",
      "\n",
      "           0       0.69      0.55      0.62     56794\n",
      "           1       0.63      0.76      0.69     56932\n",
      "\n",
      "    accuracy                           0.65    113726\n",
      "   macro avg       0.66      0.65      0.65    113726\n",
      "weighted avg       0.66      0.65      0.65    113726\n",
      "\n"
     ]
    }
   ],
   "source": [
    "print(val_accuracy_jg)\n",
    "print('---------------------------------------------------------')\n",
    "print(val_classification_report_jg)"
   ]
  },
  {
   "cell_type": "code",
   "execution_count": null,
   "metadata": {},
   "outputs": [],
   "source": []
  }
 ],
 "metadata": {
  "accelerator": "GPU",
  "colab": {
   "authorship_tag": "ABX9TyM7/wXds5D2peqYcZViB8xj",
   "gpuType": "T4",
   "provenance": []
  },
  "kernelspec": {
   "display_name": "Python 3",
   "language": "python",
   "name": "python3"
  },
  "language_info": {
   "codemirror_mode": {
    "name": "ipython",
    "version": 3
   },
   "file_extension": ".py",
   "mimetype": "text/x-python",
   "name": "python",
   "nbconvert_exporter": "python",
   "pygments_lexer": "ipython3",
   "version": "3.8.10"
  }
 },
 "nbformat": 4,
 "nbformat_minor": 1
}
